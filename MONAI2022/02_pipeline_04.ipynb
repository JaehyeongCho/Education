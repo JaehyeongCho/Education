{
 "cells": [
  {
   "cell_type": "markdown",
   "metadata": {
    "id": "96ohkCyqZNaM"
   },
   "source": [
    "#  MONAI Bootcamp\n",
    "## End-To-End Workflow with MONAI part 4 ( data partition + Ignite Supervised Evaluator and Trainer)\n"
   ]
  },
  {
   "cell_type": "markdown",
   "metadata": {
    "id": "A_lPbckSZsAG"
   },
   "source": [
    "# same baseline End-to-end Training with Ignite\n",
    "We've covered a lot of material and now it's time to apply the things that we've learned in an end-to-end example. First, we're going to use the basic PyTorch paradigm for training our model. We'll then look at how to train using the Ignite workflows to make things even easier!\n",
    "\n",
    "## baseline  End-to-End Training Workflow\n",
    "To help guide you through training your first model using MONAI, this guide will will cover five key phases:\n",
    "\n",
    " 1. Setting up our Dataset and exploring the data\n",
    " 2. Preparing datasets and transforms\n",
    " 3. Define your network and create our PyTorch training loop [replace with ignite]\n",
    " 4. Evaluate your model and understand the results\n",
    " \n",
    "Let's get started by importing our dependencies."
   ]
  },
  {
   "cell_type": "code",
   "execution_count": 2,
   "metadata": {
    "id": "qg9upTKtVga-"
   },
   "outputs": [],
   "source": [
    "import os\n",
    "import shutil\n",
    "import tempfile\n",
    "\n",
    "import matplotlib.pyplot as plt\n",
    "import numpy as np\n",
    "import PIL\n",
    "\n",
    "import torch\n",
    "import monai\n",
    "\n",
    "from monai.apps import download_and_extract\n",
    "from monai.config import print_config\n",
    "from monai.metrics import ROCAUCMetric\n",
    "from monai.data import decollate_batch, partition_dataset_classes\n",
    "from monai.networks.nets import DenseNet121\n",
    "from monai.transforms import (\n",
    "    AddChannel,\n",
    "    Compose,\n",
    "    LoadImage,\n",
    "    RandFlip,\n",
    "    RandRotate,\n",
    "    RandZoom,\n",
    "    ScaleIntensity,\n",
    "    ToTensor,\n",
    "    Activations,\n",
    "    AsDiscrete,\n",
    "    EnsureType\n",
    ")\n",
    "from monai.utils import set_determinism"
   ]
  },
  {
   "cell_type": "markdown",
   "metadata": {},
   "source": [
    "check GPU Memory with `nvidia-smi`"
   ]
  },
  {
   "cell_type": "code",
   "execution_count": 3,
   "metadata": {},
   "outputs": [
    {
     "name": "stdout",
     "output_type": "stream",
     "text": [
      "Sat Nov  5 02:59:40 2022       \n",
      "+-----------------------------------------------------------------------------+\n",
      "| NVIDIA-SMI 515.65.01    Driver Version: 515.65.01    CUDA Version: 11.7     |\n",
      "|-------------------------------+----------------------+----------------------+\n",
      "| GPU  Name        Persistence-M| Bus-Id        Disp.A | Volatile Uncorr. ECC |\n",
      "| Fan  Temp  Perf  Pwr:Usage/Cap|         Memory-Usage | GPU-Util  Compute M. |\n",
      "|                               |                      |               MIG M. |\n",
      "|===============================+======================+======================|\n",
      "|   0  NVIDIA A100-SXM...  On   | 00000000:07:00.0 Off |                   On |\n",
      "| N/A   30C    P0    60W / 400W |   7588MiB / 81920MiB |     N/A      Default |\n",
      "|                               |                      |              Enabled |\n",
      "+-------------------------------+----------------------+----------------------+\n",
      "\n",
      "+-----------------------------------------------------------------------------+\n",
      "| MIG devices:                                                                |\n",
      "+------------------+----------------------+-----------+-----------------------+\n",
      "| GPU  GI  CI  MIG |         Memory-Usage |        Vol|         Shared        |\n",
      "|      ID  ID  Dev |           BAR1-Usage | SM     Unc| CE  ENC  DEC  OFA  JPG|\n",
      "|                  |                      |        ECC|                       |\n",
      "|==================+======================+===========+=======================|\n",
      "|  0    4   0   0  |     13MiB / 19968MiB | 28      0 |  2   0    1    0    0 |\n",
      "|                  |      0MiB / 32767MiB |           |                       |\n",
      "+------------------+----------------------+-----------+-----------------------+\n",
      "                                                                               \n",
      "+-----------------------------------------------------------------------------+\n",
      "| Processes:                                                                  |\n",
      "|  GPU   GI   CI        PID   Type   Process name                  GPU Memory |\n",
      "|        ID   ID                                                   Usage      |\n",
      "|=============================================================================|\n",
      "|  No running processes found                                                 |\n",
      "+-----------------------------------------------------------------------------+\n"
     ]
    }
   ],
   "source": [
    "!nvidia-smi"
   ]
  },
  {
   "cell_type": "markdown",
   "metadata": {
    "id": "DBZIJLrJZ1IQ"
   },
   "source": [
    "## 1. Setting up our Dataset and exploring the data\n",
    "#### Setup data directory\n",
    "\n",
    "We'll create a temporary directory for all the MONAI data we're going to be using called temp directory in `~/monai-lab/temp`. "
   ]
  },
  {
   "cell_type": "code",
   "execution_count": 4,
   "metadata": {
    "colab": {
     "base_uri": "https://localhost:8080/"
    },
    "id": "qOX-pVqQVo01",
    "outputId": "cc1d2154-c38c-459b-92c9-4b9263447b90"
   },
   "outputs": [
    {
     "name": "stdout",
     "output_type": "stream",
     "text": [
      "temp\n"
     ]
    }
   ],
   "source": [
    "import os \n",
    "directory = \"temp\"\n",
    "if not os.path.exists(directory):\n",
    "    os.makedirs(directory)\n",
    "root_dir = tempfile.mkdtemp() if directory is None else directory\n",
    "print(root_dir)"
   ]
  },
  {
   "cell_type": "markdown",
   "metadata": {
    "id": "MQQ26Fv9Z-xK"
   },
   "source": [
    "Download the MedNIST dataset\n",
    "The MedNIST dataset was gathered from several sets from [TCIA](https://wiki.cancerimagingarchive.net/display/Public/Data+Usage+Policies+and+Restrictions), [the RSNA Bone Age Challenge](http://rsnachallenges.cloudapp.net/competitions/4), and the [NIH Chest X-ray dataset](https://cloud.google.com/healthcare/docs/resources/public-datasets/nih-chest).\n",
    "\n",
    "The dataset is kindly made available by [Dr. Bradley J. Erickson M.D., Ph.D.](https://www.mayo.edu/research/labs/radiology-informatics/overview) (Department of Radiology, Mayo Clinic) under the Creative Commons CC BY-SA 4.0 license. If you use the MedNIST dataset, please acknowledge the source.\n",
    "\n",
    "We're going to download this dataset below and extract it into our temporary MONAI Data Directory.\n",
    "It will take about 1 minute"
   ]
  },
  {
   "cell_type": "code",
   "execution_count": 5,
   "metadata": {
    "colab": {
     "base_uri": "https://localhost:8080/"
    },
    "id": "6_yH3E2_VvX7",
    "outputId": "04200657-6aea-4747-ad99-efe377a0dce3"
   },
   "outputs": [
    {
     "name": "stdout",
     "output_type": "stream",
     "text": [
      "CPU times: user 218 µs, sys: 142 µs, total: 360 µs\n",
      "Wall time: 244 µs\n"
     ]
    }
   ],
   "source": [
    "%%time\n",
    "\n",
    "resource = \"https://www.dropbox.com/s/5wwskxctvcxiuea/MedNIST.tar.gz?dl=1\"\n",
    "md5 = \"0bc7306e7427e00ad1c5526a6677552d\"\n",
    "\n",
    "compressed_file = os.path.join(root_dir, \"MedNIST.tar.gz\")\n",
    "data_dir = os.path.join(root_dir, \"MedNIST\")\n",
    "if not os.path.exists(data_dir):\n",
    "    download_and_extract(resource, compressed_file, root_dir, md5)"
   ]
  },
  {
   "cell_type": "markdown",
   "metadata": {
    "id": "ccI6haMfaYSF"
   },
   "source": [
    "### Set deterministic training for reproducibility\n",
    "\n",
    "[`set_determinism`](https://docs.monai.io/en/latest/utils.html?highlight=set_determinism#monai.utils.misc.set_determinism) will set the random seeds in both Numpy and PyTorch to ensure reproducibility. We'll see later that we need to go a little bit further to ensure reproducibility in a jupyter notebook"
   ]
  },
  {
   "cell_type": "code",
   "execution_count": 6,
   "metadata": {
    "id": "EwYpFBImV1hJ"
   },
   "outputs": [],
   "source": [
    "set_determinism(seed=0)"
   ]
  },
  {
   "cell_type": "markdown",
   "metadata": {
    "id": "6uKHIr0Jaj2s"
   },
   "source": [
    "#### Read the image filenames from the dataset folders\n",
    "\n",
    "When using a dataset, you want to understand the basics of the images, labels, and more. We'll start off by showing some of those basic statistics for MedNIST.\n",
    "\n",
    "We'll see that 6 different folders are representing 6 different categories: Hand, AbdomenCT, CXR, ChestCT, BreastMRI, HeadCT. We'll be using each of these categories as our label names."
   ]
  },
  {
   "cell_type": "code",
   "execution_count": 7,
   "metadata": {
    "colab": {
     "base_uri": "https://localhost:8080/"
    },
    "id": "L4T6KV7lV1ng",
    "outputId": "933bcb83-46c1-472d-b5db-c0e786b816c3"
   },
   "outputs": [
    {
     "name": "stdout",
     "output_type": "stream",
     "text": [
      "Total image count: 58954\n",
      "Image dimensions: 64 x 64\n",
      "Label names: ['AbdomenCT', 'BreastMRI', 'CXR', 'ChestCT', 'Hand', 'HeadCT']\n",
      "number of Labels: 6\n",
      "Label counts: [10000, 8954, 10000, 10000, 10000, 10000]\n"
     ]
    }
   ],
   "source": [
    "class_names = sorted(x for x in os.listdir(data_dir) if os.path.isdir(os.path.join(data_dir, x)))\n",
    "num_class = len(class_names)\n",
    "\n",
    "image_files = [\n",
    "    [\n",
    "        os.path.join(data_dir, class_names[i], x)\n",
    "        for x in os.listdir(os.path.join(data_dir, class_names[i]))\n",
    "    ]\n",
    "    for i in range(num_class)\n",
    "]\n",
    "\n",
    "num_each = [len(image_files[i]) for i in range(num_class)]\n",
    "image_files_list = []\n",
    "image_class = []\n",
    "\n",
    "for i in range(num_class):\n",
    "    image_files_list.extend(image_files[i])\n",
    "    image_class.extend([i] * num_each[i])\n",
    "    \n",
    "num_total = len(image_class)\n",
    "image_width, image_height = PIL.Image.open(image_files_list[0]).size\n",
    "\n",
    "print(f\"Total image count: {num_total}\")\n",
    "print(f\"Image dimensions: {image_width} x {image_height}\")\n",
    "print(f\"Label names: {class_names}\")\n",
    "print(f\"number of Labels: {num_class}\")\n",
    "print(f\"Label counts: {num_each}\")"
   ]
  },
  {
   "cell_type": "markdown",
   "metadata": {
    "id": "Yx-WedqRWDbt"
   },
   "source": [
    "# 2. Preparing datasets and transforms\n",
    "### Prepare training, validation, and test data lists\n",
    "\n",
    "We want to split the data into 3 different sets, one for training, one for validation, and one for testing. We'll use a ratio of 80/10/10 for those sets."
   ]
  },
  {
   "cell_type": "markdown",
   "metadata": {},
   "source": [
    "#### baseline manual"
   ]
  },
  {
   "cell_type": "code",
   "execution_count": 8,
   "metadata": {
    "colab": {
     "base_uri": "https://localhost:8080/"
    },
    "id": "vppWmX-BV1uN",
    "outputId": "74075068-0c62-4b37-8371-3cd0b9d0fa27"
   },
   "outputs": [
    {
     "name": "stdout",
     "output_type": "stream",
     "text": [
      "Training count: 46946, Validation count: 6022, Test count: 5986\n"
     ]
    }
   ],
   "source": [
    "val_frac = 0.1\n",
    "test_frac = 0.1\n",
    "train_x = list()\n",
    "train_y = list()\n",
    "val_x = list()\n",
    "val_y = list()\n",
    "test_x = list()\n",
    "test_y = list()\n",
    "\n",
    "for i in range(num_total):\n",
    "    rann = np.random.random()\n",
    "    if rann < val_frac:\n",
    "        val_x.append(image_files_list[i])\n",
    "        val_y.append(image_class[i])\n",
    "    elif rann < test_frac + val_frac:\n",
    "        test_x.append(image_files_list[i])\n",
    "        test_y.append(image_class[i])\n",
    "    else:\n",
    "        train_x.append(image_files_list[i])\n",
    "        train_y.append(image_class[i])\n",
    "\n",
    "print(f\"Training count: {len(train_x)}, Validation count: {len(val_x)}, Test count: {len(test_x)}\")"
   ]
  },
  {
   "cell_type": "markdown",
   "metadata": {},
   "source": [
    "#### manual with floor math"
   ]
  },
  {
   "cell_type": "code",
   "execution_count": 9,
   "metadata": {},
   "outputs": [
    {
     "name": "stdout",
     "output_type": "stream",
     "text": [
      "47164 5895 5895\n"
     ]
    }
   ],
   "source": [
    "from math import floor\n",
    "\n",
    "# make this selection deterministic and controllable by seed\n",
    "dataset_seed = 12345678\n",
    "r = np.random.RandomState(dataset_seed)\n",
    "\n",
    "# calculate the number of images we want for the validation and test groups\n",
    "validation_proportion = 0.1\n",
    "test_proportion = 0.1\n",
    "validation_count = floor(validation_proportion * num_total)\n",
    "test_count = floor(test_proportion * num_total)\n",
    "\n",
    "groups = np.zeros(num_total, dtype=np.int32)\n",
    "\n",
    "# set the appropriate number of '1's for the validation dataset\n",
    "groups[:validation_count] = 1\n",
    "\n",
    "# then set the appropriate number of '2's for the test dataset\n",
    "groups[validation_count:validation_count + test_count] = 2\n",
    "\n",
    "# Shuffle the sequence so that \n",
    "r.shuffle(groups)\n",
    "\n",
    "image_sets = list(), list(), list()\n",
    "label_sets = list(), list(), list()\n",
    "\n",
    "for n in range(num_total):\n",
    "    image_sets[groups[n]].append(image_files_list[n])\n",
    "    label_sets[groups[n]].append(image_class[n])\n",
    "    \n",
    "train_x, val_x, test_x = image_sets\n",
    "train_y, val_y, test_y = label_sets\n",
    "print(len(train_x), len(val_x), len(test_x))"
   ]
  },
  {
   "cell_type": "markdown",
   "metadata": {},
   "source": [
    "#### partition with shuffle"
   ]
  },
  {
   "cell_type": "code",
   "execution_count": 10,
   "metadata": {},
   "outputs": [
    {
     "name": "stdout",
     "output_type": "stream",
     "text": [
      "Training count: 47163, Validation count: 5895, Test count: 5895\n"
     ]
    }
   ],
   "source": [
    "train_inds, val_inds, test_inds = partition_dataset_classes(np.arange(len(image_files_list)), \n",
    "                                                            image_class,(8, 1, 1), shuffle=True)\n",
    "\n",
    "train_x = [image_files_list[i] for i in train_inds]\n",
    "train_y = [image_class[i] for i in train_inds]\n",
    "val_x = [image_files_list[i] for i in val_inds]\n",
    "val_y = [image_class[i] for i in val_inds]\n",
    "test_x = [image_files_list[i] for i in test_inds]\n",
    "test_y = [image_class[i] for i in test_inds]\n",
    "\n",
    "print(f\"Training count: {len(train_x)}, Validation count: {len(val_x)}, Test count: {len(test_x)}\")"
   ]
  },
  {
   "cell_type": "markdown",
   "metadata": {},
   "source": [
    "#### partition with suffle and seed"
   ]
  },
  {
   "cell_type": "code",
   "execution_count": 11,
   "metadata": {},
   "outputs": [
    {
     "name": "stdout",
     "output_type": "stream",
     "text": [
      "47163 5895 5895\n"
     ]
    }
   ],
   "source": [
    "rseed = 12345678\n",
    "parts = partition_dataset_classes(\n",
    "    data=np.arange(len(image_files_list)), \n",
    "    classes=image_class, \n",
    "    ratios=(8, 1, 1), \n",
    "    shuffle=True, \n",
    "    seed=rseed\n",
    ")\n",
    "\n",
    "image_sets = [list(), list(), list()]\n",
    "label_sets = [list(), list(), list()]\n",
    "\n",
    "for i, part in enumerate(parts):\n",
    "    image_sets[i] = [image_files_list[idx] for idx in part]\n",
    "    label_sets[i] = [image_class[idx] for idx in part]\n",
    "\n",
    "train_x, val_x, test_x = image_sets\n",
    "train_y, val_y, test_y = label_sets\n",
    "print(len(train_x), len(val_x), len(test_x))"
   ]
  },
  {
   "cell_type": "markdown",
   "metadata": {
    "id": "CQKPHOjgWHoW"
   },
   "source": [
    "### Define MONAI transforms, Dataset and Dataloader to pre-process data\n",
    "\n",
    "We'll define our transform using `Compose`. In this Array of Transforms, we'll load the image, add a channel, scale its intensity, utilize a few random functions and finally create a tensor."
   ]
  },
  {
   "cell_type": "code",
   "execution_count": 12,
   "metadata": {
    "colab": {
     "base_uri": "https://localhost:8080/"
    },
    "id": "DaRvhLd-WTmF",
    "outputId": "619dac29-2ec4-4bb3-bf52-9bf49780c17e"
   },
   "outputs": [],
   "source": [
    "train_transforms = Compose(\n",
    "    [\n",
    "        LoadImage(image_only=True),\n",
    "        AddChannel(),\n",
    "        ScaleIntensity(),\n",
    "        RandRotate(range_x=15, prob=0.5, keep_size=True),\n",
    "        RandFlip(spatial_axis=0, prob=0.5),\n",
    "        RandZoom(min_zoom=0.9, max_zoom=1.1, prob=0.5),\n",
    "        ToTensor(),\n",
    "    ]\n",
    ")\n",
    "\n",
    "val_transforms = Compose([LoadImage(image_only=True), AddChannel(), ScaleIntensity(), ToTensor()])\n",
    "\n",
    "act = Compose([EnsureType(), Activations(softmax=True)])\n",
    "to_onehot = Compose([EnsureType(), AsDiscrete(to_onehot=num_class, n_classes=num_class)])"
   ]
  },
  {
   "cell_type": "markdown",
   "metadata": {
    "id": "7DeElxN0WcKt"
   },
   "source": [
    "### Initialise the datasets and loaders for training, validation and test sets\n",
    "- Define a simple dataset, that we'll call `MedNISTDataset`, that  groups:\n",
    "\n",
    " - Images\n",
    " - Labels\n",
    " - The transforms that are to be run on the images and labels\n",
    "- Create three instances of this dataset:\n",
    "  - One for training\n",
    "  - One for validation\n",
    "  - One for testing\n",
    "\n",
    "We'll use a batch size of 512 and employ 10 workers to load the data."
   ]
  },
  {
   "cell_type": "code",
   "execution_count": 13,
   "metadata": {
    "colab": {
     "base_uri": "https://localhost:8080/"
    },
    "id": "fag4Yd2CWTum",
    "outputId": "af0aca02-0916-4909-9da7-8a14f57c1a20"
   },
   "outputs": [],
   "source": [
    "batch_size = 512\n",
    "num_workers = 4\n",
    "\n",
    "class MedNISTDataset(torch.utils.data.Dataset):\n",
    "    def __init__(self, image_files, labels, transforms):\n",
    "        self.image_files = image_files\n",
    "        self.labels = labels\n",
    "        self.transforms = transforms\n",
    "\n",
    "    def __len__(self):\n",
    "        return len(self.image_files)\n",
    "\n",
    "    def __getitem__(self, index):\n",
    "        return self.transforms(self.image_files[index]), self.labels[index]\n",
    "\n",
    "\n",
    "train_ds = MedNISTDataset(train_x, train_y, train_transforms)\n",
    "train_loader = torch.utils.data.DataLoader(train_ds, batch_size=batch_size, shuffle=True, num_workers=num_workers)\n",
    "\n",
    "val_ds = MedNISTDataset(val_x, val_y, val_transforms)\n",
    "val_loader = torch.utils.data.DataLoader(val_ds, batch_size=batch_size, num_workers=num_workers)\n",
    "\n",
    "test_ds = MedNISTDataset(test_x, test_y, val_transforms)\n",
    "test_loader = torch.utils.data.DataLoader(test_ds, batch_size=batch_size, num_workers=num_workers)"
   ]
  },
  {
   "cell_type": "markdown",
   "metadata": {
    "id": "Df90U_QrW0i6"
   },
   "source": [
    "3. Define your network and create our PyTorch training loop\n",
    "Define network and optimizer\n",
    "Set learning_rate for how much the model is updated per step\n",
    "The fetch a pytorch device for the GPU\n",
    "Instantiate a `densenet121` model instance and 'send' it to the GPU using device\n",
    "This is a standard MONAI implementation; it is capable of 2D and 3D operation but here we are using it in 2D mode\n",
    "We'll make use of the Adam optimizer"
   ]
  },
  {
   "cell_type": "code",
   "execution_count": 14,
   "metadata": {
    "id": "B0Fxk7CNWTxg"
   },
   "outputs": [],
   "source": [
    "# Configure \n",
    "learning_rate = 1e-5\n",
    "device = torch.device(\"cuda:0\" if torch.cuda.is_available() else \"cpu\")\n",
    "net = DenseNet121(spatial_dims=2, in_channels=1, out_channels=num_class).to(device)\n",
    "loss_function = torch.nn.CrossEntropyLoss()\n",
    "optimizer = torch.optim.Adam(net.parameters(), learning_rate)"
   ]
  },
  {
   "cell_type": "markdown",
   "metadata": {
    "id": "KyIfXHW9W3rW"
   },
   "source": [
    "\n",
    "## Let's use ignite (Supervised Evaluator and trainer)\n",
    "Everything that we have done so far uses MONAI with pytorch in a very vanilla fashion. The initial training / validation loop is written to show you the nuts and bolts of pytorch. Now let's explore starting the move towards Ignite and features of MONAI designed to work with it.\n",
    "\n",
    "<img src=\"https://github.com/Project-MONAI/MONAIBootcamp2021/raw/2f28b64f814a03703667c8ea18cc84f53d6795e4/day1/workflows.png\" width=600>\n",
    "\n",
    "\n"
   ]
  },
  {
   "cell_type": "markdown",
   "metadata": {},
   "source": [
    "#### initialize network, optimizer"
   ]
  },
  {
   "cell_type": "code",
   "execution_count": 15,
   "metadata": {},
   "outputs": [],
   "source": [
    "# Configure \n",
    "learning_rate = 1e-5\n",
    "device = torch.device(\"cuda:0\" if torch.cuda.is_available() else \"cpu\")\n",
    "net = DenseNet121(spatial_dims=2, in_channels=1, out_channels=num_class).to(device)\n",
    "loss_function = torch.nn.CrossEntropyLoss()\n",
    "optimizer = torch.optim.Adam(net.parameters(), learning_rate)"
   ]
  },
  {
   "cell_type": "markdown",
   "metadata": {},
   "source": [
    "#### load ignite module and initialize  buffers"
   ]
  },
  {
   "cell_type": "code",
   "execution_count": 16,
   "metadata": {},
   "outputs": [],
   "source": [
    "from ignite.engine import Events\n",
    "from ignite.handlers import ModelCheckpoint\n",
    "from ignite.metrics import Accuracy\n",
    "from monai.handlers import ROCAUC, ValidationHandler\n",
    "from monai.engines import SupervisedTrainer, SupervisedEvaluator\n",
    "step = 1\n",
    "train_epochs = 4\n",
    "iter_losses = []\n",
    "batch_sizes = []\n",
    "epoch_loss_values = []\n",
    "metric_values = []\n"
   ]
  },
  {
   "cell_type": "markdown",
   "metadata": {},
   "source": [
    "#### configure roc metric (same)"
   ]
  },
  {
   "cell_type": "code",
   "execution_count": 17,
   "metadata": {},
   "outputs": [],
   "source": [
    "\n",
    "\n",
    "steps_per_epoch = len(train_ds) // train_loader.batch_size\n",
    "if len(train_ds) % train_loader.batch_size != 0:\n",
    "    steps_per_epoch += 1\n",
    "\n",
    "\n",
    "def roc_auc_trans(x):\n",
    "    if isinstance(x, list):\n",
    "        pred = torch.cat([i[0][None, :] for i in x])\n",
    "        label = torch.cat([i[1][None, :] for i in x])\n",
    "        return pred, label\n",
    "\n",
    "    return act(x[\"pred\"]), to_onehot(x[\"label\"])\n"
   ]
  },
  {
   "cell_type": "markdown",
   "metadata": {},
   "source": [
    "#### configure ignite Supervised Evaluator and trainer "
   ]
  },
  {
   "cell_type": "code",
   "execution_count": 18,
   "metadata": {},
   "outputs": [],
   "source": [
    "\n",
    "def prepare_batch(batchdata, device, non_blocking):\n",
    "    img, classes = batchdata\n",
    "    return img.to(device), classes.to(device)\n",
    "\n",
    "\n",
    "evaluator = SupervisedEvaluator(\n",
    "    device=device,\n",
    "    val_data_loader=val_loader,\n",
    "    network=net,\n",
    "    postprocessing=roc_auc_trans,\n",
    "    key_val_metric={\"rocauc\": ROCAUC(output_transform=roc_auc_trans)},\n",
    "    prepare_batch=prepare_batch,\n",
    ")\n",
    "\n",
    "trainer = SupervisedTrainer(\n",
    "    device=device,\n",
    "    max_epochs=train_epochs,\n",
    "    train_data_loader=train_loader,\n",
    "    network=net,\n",
    "    optimizer=optimizer,\n",
    "    loss_function=loss_function,\n",
    "    train_handlers=[ValidationHandler(1, evaluator)],\n",
    "    prepare_batch=prepare_batch,\n",
    ")\n"
   ]
  },
  {
   "cell_type": "markdown",
   "metadata": {},
   "source": [
    "#### configure event handler for iteration and epoch"
   ]
  },
  {
   "cell_type": "code",
   "execution_count": 19,
   "metadata": {
    "id": "IBDD_Iq0Yh5j"
   },
   "outputs": [],
   "source": [
    "@trainer.on(Events.ITERATION_COMPLETED)\n",
    "def _end_iter(engine):\n",
    "    global step\n",
    "    loss = np.average([o[\"loss\"] for o in engine.state.output])\n",
    "    batch_len = len(engine.state.batch[0])\n",
    "    epoch = engine.state.epoch\n",
    "    epoch_len = engine.state.max_epochs\n",
    "    step_total = engine.state.iteration  \n",
    "    iter_losses.append(loss)\n",
    "    batch_sizes.append(batch_len)\n",
    "\n",
    "    print(f\"epoch {epoch}/{epoch_len}, step {step}/{steps_per_epoch}, total step {step_total}/{steps_per_epoch*epoch_len}, training_loss = {loss:.4f}\")\n",
    "    step += 1\n",
    "\n",
    "@trainer.on(Events.EPOCH_COMPLETED)\n",
    "def run_validation(engine):\n",
    "    global step\n",
    "    # the overall average loss must be weighted by batch size\n",
    "    overall_average_loss = np.average(iter_losses, weights=batch_sizes)\n",
    "    epoch_loss_values.append(overall_average_loss)\n",
    "\n",
    "    # clear the contents of iter_losses and batch_sizes for the next epoch\n",
    "    del iter_losses[:]\n",
    "    del batch_sizes[:]\n",
    "\n",
    "    # fetch and report the validation metrics\n",
    "    roc = evaluator.state.metrics[\"rocauc\"]\n",
    "    metric_values.append(roc)\n",
    "    print(f\"evaluation for epoch {engine.state.epoch},  rocauc = {roc:.4f}\")\n",
    "    step = 1\n"
   ]
  },
  {
   "cell_type": "markdown",
   "metadata": {},
   "source": [
    "#### launch ignite trainer "
   ]
  },
  {
   "cell_type": "code",
   "execution_count": 20,
   "metadata": {
    "colab": {
     "base_uri": "https://localhost:8080/"
    },
    "id": "MTtDjwG3YkJZ",
    "outputId": "ce99b12f-234f-459e-f7db-4ad30d3b86f6",
    "scrolled": true
   },
   "outputs": [
    {
     "name": "stdout",
     "output_type": "stream",
     "text": [
      "epoch 1/4, step 1/93, total step 1/372, training_loss = 1.8325\n",
      "epoch 1/4, step 2/93, total step 2/372, training_loss = 1.7940\n",
      "epoch 1/4, step 3/93, total step 3/372, training_loss = 1.7789\n",
      "epoch 1/4, step 4/93, total step 4/372, training_loss = 1.7886\n",
      "epoch 1/4, step 5/93, total step 5/372, training_loss = 1.7380\n",
      "epoch 1/4, step 6/93, total step 6/372, training_loss = 1.7141\n",
      "epoch 1/4, step 7/93, total step 7/372, training_loss = 1.6948\n",
      "epoch 1/4, step 8/93, total step 8/372, training_loss = 1.6628\n",
      "epoch 1/4, step 9/93, total step 9/372, training_loss = 1.6326\n",
      "epoch 1/4, step 10/93, total step 10/372, training_loss = 1.6031\n",
      "epoch 1/4, step 11/93, total step 11/372, training_loss = 1.6029\n",
      "epoch 1/4, step 12/93, total step 12/372, training_loss = 1.5629\n",
      "epoch 1/4, step 13/93, total step 13/372, training_loss = 1.5506\n",
      "epoch 1/4, step 14/93, total step 14/372, training_loss = 1.5302\n",
      "epoch 1/4, step 15/93, total step 15/372, training_loss = 1.4928\n",
      "epoch 1/4, step 16/93, total step 16/372, training_loss = 1.4512\n",
      "epoch 1/4, step 17/93, total step 17/372, training_loss = 1.4750\n",
      "epoch 1/4, step 18/93, total step 18/372, training_loss = 1.4127\n",
      "epoch 1/4, step 19/93, total step 19/372, training_loss = 1.4013\n",
      "epoch 1/4, step 20/93, total step 20/372, training_loss = 1.4018\n",
      "epoch 1/4, step 21/93, total step 21/372, training_loss = 1.3693\n",
      "epoch 1/4, step 22/93, total step 22/372, training_loss = 1.3636\n",
      "epoch 1/4, step 23/93, total step 23/372, training_loss = 1.3594\n",
      "epoch 1/4, step 24/93, total step 24/372, training_loss = 1.3316\n",
      "epoch 1/4, step 25/93, total step 25/372, training_loss = 1.3036\n",
      "epoch 1/4, step 26/93, total step 26/372, training_loss = 1.2837\n",
      "epoch 1/4, step 27/93, total step 27/372, training_loss = 1.2645\n",
      "epoch 1/4, step 28/93, total step 28/372, training_loss = 1.2726\n",
      "epoch 1/4, step 29/93, total step 29/372, training_loss = 1.2447\n",
      "epoch 1/4, step 30/93, total step 30/372, training_loss = 1.2268\n",
      "epoch 1/4, step 31/93, total step 31/372, training_loss = 1.2216\n",
      "epoch 1/4, step 32/93, total step 32/372, training_loss = 1.2049\n",
      "epoch 1/4, step 33/93, total step 33/372, training_loss = 1.1825\n",
      "epoch 1/4, step 34/93, total step 34/372, training_loss = 1.1758\n",
      "epoch 1/4, step 35/93, total step 35/372, training_loss = 1.1377\n",
      "epoch 1/4, step 36/93, total step 36/372, training_loss = 1.1497\n",
      "epoch 1/4, step 37/93, total step 37/372, training_loss = 1.1160\n",
      "epoch 1/4, step 38/93, total step 38/372, training_loss = 1.1012\n",
      "epoch 1/4, step 39/93, total step 39/372, training_loss = 1.0783\n",
      "epoch 1/4, step 40/93, total step 40/372, training_loss = 1.0931\n",
      "epoch 1/4, step 41/93, total step 41/372, training_loss = 1.0602\n",
      "epoch 1/4, step 42/93, total step 42/372, training_loss = 1.0642\n",
      "epoch 1/4, step 43/93, total step 43/372, training_loss = 1.0369\n",
      "epoch 1/4, step 44/93, total step 44/372, training_loss = 1.0110\n",
      "epoch 1/4, step 45/93, total step 45/372, training_loss = 1.0023\n",
      "epoch 1/4, step 46/93, total step 46/372, training_loss = 0.9668\n",
      "epoch 1/4, step 47/93, total step 47/372, training_loss = 1.0188\n",
      "epoch 1/4, step 48/93, total step 48/372, training_loss = 0.9552\n",
      "epoch 1/4, step 49/93, total step 49/372, training_loss = 0.9527\n",
      "epoch 1/4, step 50/93, total step 50/372, training_loss = 0.9573\n",
      "epoch 1/4, step 51/93, total step 51/372, training_loss = 0.9328\n",
      "epoch 1/4, step 52/93, total step 52/372, training_loss = 0.8826\n",
      "epoch 1/4, step 53/93, total step 53/372, training_loss = 0.8859\n",
      "epoch 1/4, step 54/93, total step 54/372, training_loss = 0.8703\n",
      "epoch 1/4, step 55/93, total step 55/372, training_loss = 0.8496\n",
      "epoch 1/4, step 56/93, total step 56/372, training_loss = 0.8548\n",
      "epoch 1/4, step 57/93, total step 57/372, training_loss = 0.8775\n",
      "epoch 1/4, step 58/93, total step 58/372, training_loss = 0.8319\n",
      "epoch 1/4, step 59/93, total step 59/372, training_loss = 0.8291\n",
      "epoch 1/4, step 60/93, total step 60/372, training_loss = 0.8333\n",
      "epoch 1/4, step 61/93, total step 61/372, training_loss = 0.8148\n",
      "epoch 1/4, step 62/93, total step 62/372, training_loss = 0.7974\n",
      "epoch 1/4, step 63/93, total step 63/372, training_loss = 0.8019\n",
      "epoch 1/4, step 64/93, total step 64/372, training_loss = 0.7895\n",
      "epoch 1/4, step 65/93, total step 65/372, training_loss = 0.7389\n",
      "epoch 1/4, step 66/93, total step 66/372, training_loss = 0.7554\n",
      "epoch 1/4, step 67/93, total step 67/372, training_loss = 0.7173\n",
      "epoch 1/4, step 68/93, total step 68/372, training_loss = 0.7116\n",
      "epoch 1/4, step 69/93, total step 69/372, training_loss = 0.7289\n",
      "epoch 1/4, step 70/93, total step 70/372, training_loss = 0.7064\n",
      "epoch 1/4, step 71/93, total step 71/372, training_loss = 0.6802\n",
      "epoch 1/4, step 72/93, total step 72/372, training_loss = 0.7473\n",
      "epoch 1/4, step 73/93, total step 73/372, training_loss = 0.6936\n",
      "epoch 1/4, step 74/93, total step 74/372, training_loss = 0.6819\n",
      "epoch 1/4, step 75/93, total step 75/372, training_loss = 0.6822\n",
      "epoch 1/4, step 76/93, total step 76/372, training_loss = 0.6420\n",
      "epoch 1/4, step 77/93, total step 77/372, training_loss = 0.6710\n",
      "epoch 1/4, step 78/93, total step 78/372, training_loss = 0.6488\n",
      "epoch 1/4, step 79/93, total step 79/372, training_loss = 0.6602\n",
      "epoch 1/4, step 80/93, total step 80/372, training_loss = 0.6286\n",
      "epoch 1/4, step 81/93, total step 81/372, training_loss = 0.6504\n",
      "epoch 1/4, step 82/93, total step 82/372, training_loss = 0.6483\n",
      "epoch 1/4, step 83/93, total step 83/372, training_loss = 0.6077\n",
      "epoch 1/4, step 84/93, total step 84/372, training_loss = 0.6388\n",
      "epoch 1/4, step 85/93, total step 85/372, training_loss = 0.5959\n",
      "epoch 1/4, step 86/93, total step 86/372, training_loss = 0.5937\n",
      "epoch 1/4, step 87/93, total step 87/372, training_loss = 0.6121\n",
      "epoch 1/4, step 88/93, total step 88/372, training_loss = 0.5390\n",
      "epoch 1/4, step 89/93, total step 89/372, training_loss = 0.5457\n",
      "epoch 1/4, step 90/93, total step 90/372, training_loss = 0.5603\n",
      "epoch 1/4, step 91/93, total step 91/372, training_loss = 0.5916\n",
      "epoch 1/4, step 92/93, total step 92/372, training_loss = 0.5242\n",
      "epoch 1/4, step 93/93, total step 93/372, training_loss = 0.4863\n",
      "evaluation for epoch 1,  rocauc = 0.9935\n",
      "epoch 2/4, step 1/93, total step 94/372, training_loss = 0.5646\n",
      "epoch 2/4, step 2/93, total step 95/372, training_loss = 0.5348\n",
      "epoch 2/4, step 3/93, total step 96/372, training_loss = 0.5400\n",
      "epoch 2/4, step 4/93, total step 97/372, training_loss = 0.5089\n",
      "epoch 2/4, step 5/93, total step 98/372, training_loss = 0.5180\n",
      "epoch 2/4, step 6/93, total step 99/372, training_loss = 0.5231\n",
      "epoch 2/4, step 7/93, total step 100/372, training_loss = 0.5097\n",
      "epoch 2/4, step 8/93, total step 101/372, training_loss = 0.4701\n",
      "epoch 2/4, step 9/93, total step 102/372, training_loss = 0.4840\n",
      "epoch 2/4, step 10/93, total step 103/372, training_loss = 0.5038\n",
      "epoch 2/4, step 11/93, total step 104/372, training_loss = 0.4911\n",
      "epoch 2/4, step 12/93, total step 105/372, training_loss = 0.4971\n",
      "epoch 2/4, step 13/93, total step 106/372, training_loss = 0.4432\n",
      "epoch 2/4, step 14/93, total step 107/372, training_loss = 0.4910\n",
      "epoch 2/4, step 15/93, total step 108/372, training_loss = 0.4415\n",
      "epoch 2/4, step 16/93, total step 109/372, training_loss = 0.4492\n",
      "epoch 2/4, step 17/93, total step 110/372, training_loss = 0.4597\n",
      "epoch 2/4, step 18/93, total step 111/372, training_loss = 0.4491\n",
      "epoch 2/4, step 19/93, total step 112/372, training_loss = 0.4520\n",
      "epoch 2/4, step 20/93, total step 113/372, training_loss = 0.4600\n",
      "epoch 2/4, step 21/93, total step 114/372, training_loss = 0.4316\n",
      "epoch 2/4, step 22/93, total step 115/372, training_loss = 0.4594\n",
      "epoch 2/4, step 23/93, total step 116/372, training_loss = 0.4481\n",
      "epoch 2/4, step 24/93, total step 117/372, training_loss = 0.4080\n",
      "epoch 2/4, step 25/93, total step 118/372, training_loss = 0.4039\n",
      "epoch 2/4, step 26/93, total step 119/372, training_loss = 0.3976\n",
      "epoch 2/4, step 27/93, total step 120/372, training_loss = 0.4124\n",
      "epoch 2/4, step 28/93, total step 121/372, training_loss = 0.4448\n",
      "epoch 2/4, step 29/93, total step 122/372, training_loss = 0.4116\n",
      "epoch 2/4, step 30/93, total step 123/372, training_loss = 0.3656\n",
      "epoch 2/4, step 31/93, total step 124/372, training_loss = 0.3949\n",
      "epoch 2/4, step 32/93, total step 125/372, training_loss = 0.3999\n",
      "epoch 2/4, step 33/93, total step 126/372, training_loss = 0.3703\n",
      "epoch 2/4, step 34/93, total step 127/372, training_loss = 0.3880\n",
      "epoch 2/4, step 35/93, total step 128/372, training_loss = 0.3885\n",
      "epoch 2/4, step 36/93, total step 129/372, training_loss = 0.3865\n",
      "epoch 2/4, step 37/93, total step 130/372, training_loss = 0.3568\n",
      "epoch 2/4, step 38/93, total step 131/372, training_loss = 0.3863\n",
      "epoch 2/4, step 39/93, total step 132/372, training_loss = 0.3676\n",
      "epoch 2/4, step 40/93, total step 133/372, training_loss = 0.3173\n",
      "epoch 2/4, step 41/93, total step 134/372, training_loss = 0.3560\n",
      "epoch 2/4, step 42/93, total step 135/372, training_loss = 0.3494\n",
      "epoch 2/4, step 43/93, total step 136/372, training_loss = 0.3487\n",
      "epoch 2/4, step 44/93, total step 137/372, training_loss = 0.3403\n",
      "epoch 2/4, step 45/93, total step 138/372, training_loss = 0.3778\n",
      "epoch 2/4, step 46/93, total step 139/372, training_loss = 0.3666\n",
      "epoch 2/4, step 47/93, total step 140/372, training_loss = 0.3602\n",
      "epoch 2/4, step 48/93, total step 141/372, training_loss = 0.3605\n",
      "epoch 2/4, step 49/93, total step 142/372, training_loss = 0.3237\n",
      "epoch 2/4, step 50/93, total step 143/372, training_loss = 0.3283\n",
      "epoch 2/4, step 51/93, total step 144/372, training_loss = 0.3215\n",
      "epoch 2/4, step 52/93, total step 145/372, training_loss = 0.3198\n",
      "epoch 2/4, step 53/93, total step 146/372, training_loss = 0.3086\n",
      "epoch 2/4, step 54/93, total step 147/372, training_loss = 0.3146\n",
      "epoch 2/4, step 55/93, total step 148/372, training_loss = 0.3064\n",
      "epoch 2/4, step 56/93, total step 149/372, training_loss = 0.2935\n",
      "epoch 2/4, step 57/93, total step 150/372, training_loss = 0.3418\n",
      "epoch 2/4, step 58/93, total step 151/372, training_loss = 0.3282\n",
      "epoch 2/4, step 59/93, total step 152/372, training_loss = 0.2952\n",
      "epoch 2/4, step 60/93, total step 153/372, training_loss = 0.3008\n",
      "epoch 2/4, step 61/93, total step 154/372, training_loss = 0.3161\n",
      "epoch 2/4, step 62/93, total step 155/372, training_loss = 0.3030\n",
      "epoch 2/4, step 63/93, total step 156/372, training_loss = 0.2755\n",
      "epoch 2/4, step 64/93, total step 157/372, training_loss = 0.2915\n",
      "epoch 2/4, step 65/93, total step 158/372, training_loss = 0.2906\n",
      "epoch 2/4, step 66/93, total step 159/372, training_loss = 0.2801\n",
      "epoch 2/4, step 67/93, total step 160/372, training_loss = 0.3071\n",
      "epoch 2/4, step 68/93, total step 161/372, training_loss = 0.2796\n",
      "epoch 2/4, step 69/93, total step 162/372, training_loss = 0.2865\n",
      "epoch 2/4, step 70/93, total step 163/372, training_loss = 0.2762\n",
      "epoch 2/4, step 71/93, total step 164/372, training_loss = 0.3135\n",
      "epoch 2/4, step 72/93, total step 165/372, training_loss = 0.3042\n",
      "epoch 2/4, step 73/93, total step 166/372, training_loss = 0.2608\n",
      "epoch 2/4, step 74/93, total step 167/372, training_loss = 0.2602\n",
      "epoch 2/4, step 75/93, total step 168/372, training_loss = 0.2381\n",
      "epoch 2/4, step 76/93, total step 169/372, training_loss = 0.2675\n",
      "epoch 2/4, step 77/93, total step 170/372, training_loss = 0.2722\n",
      "epoch 2/4, step 78/93, total step 171/372, training_loss = 0.2497\n",
      "epoch 2/4, step 79/93, total step 172/372, training_loss = 0.2450\n",
      "epoch 2/4, step 80/93, total step 173/372, training_loss = 0.2356\n",
      "epoch 2/4, step 81/93, total step 174/372, training_loss = 0.2650\n",
      "epoch 2/4, step 82/93, total step 175/372, training_loss = 0.2596\n",
      "epoch 2/4, step 83/93, total step 176/372, training_loss = 0.2597\n",
      "epoch 2/4, step 84/93, total step 177/372, training_loss = 0.2386\n",
      "epoch 2/4, step 85/93, total step 178/372, training_loss = 0.2261\n",
      "epoch 2/4, step 86/93, total step 179/372, training_loss = 0.2213\n",
      "epoch 2/4, step 87/93, total step 180/372, training_loss = 0.2394\n",
      "epoch 2/4, step 88/93, total step 181/372, training_loss = 0.2465\n",
      "epoch 2/4, step 89/93, total step 182/372, training_loss = 0.2678\n",
      "epoch 2/4, step 90/93, total step 183/372, training_loss = 0.2599\n",
      "epoch 2/4, step 91/93, total step 184/372, training_loss = 0.2395\n",
      "epoch 2/4, step 92/93, total step 185/372, training_loss = 0.2645\n",
      "epoch 2/4, step 93/93, total step 186/372, training_loss = 0.4296\n",
      "evaluation for epoch 2,  rocauc = 0.9981\n",
      "epoch 3/4, step 1/93, total step 187/372, training_loss = 0.2291\n",
      "epoch 3/4, step 2/93, total step 188/372, training_loss = 0.2317\n",
      "epoch 3/4, step 3/93, total step 189/372, training_loss = 0.2281\n",
      "epoch 3/4, step 4/93, total step 190/372, training_loss = 0.2183\n",
      "epoch 3/4, step 5/93, total step 191/372, training_loss = 0.2432\n",
      "epoch 3/4, step 6/93, total step 192/372, training_loss = 0.2225\n",
      "epoch 3/4, step 7/93, total step 193/372, training_loss = 0.2272\n",
      "epoch 3/4, step 8/93, total step 194/372, training_loss = 0.2401\n",
      "epoch 3/4, step 9/93, total step 195/372, training_loss = 0.2200\n",
      "epoch 3/4, step 10/93, total step 196/372, training_loss = 0.2121\n",
      "epoch 3/4, step 11/93, total step 197/372, training_loss = 0.2154\n",
      "epoch 3/4, step 12/93, total step 198/372, training_loss = 0.2098\n",
      "epoch 3/4, step 13/93, total step 199/372, training_loss = 0.2298\n",
      "epoch 3/4, step 14/93, total step 200/372, training_loss = 0.2024\n",
      "epoch 3/4, step 15/93, total step 201/372, training_loss = 0.1991\n",
      "epoch 3/4, step 16/93, total step 202/372, training_loss = 0.1722\n",
      "epoch 3/4, step 17/93, total step 203/372, training_loss = 0.2118\n",
      "epoch 3/4, step 18/93, total step 204/372, training_loss = 0.2377\n",
      "epoch 3/4, step 19/93, total step 205/372, training_loss = 0.2139\n",
      "epoch 3/4, step 20/93, total step 206/372, training_loss = 0.2330\n",
      "epoch 3/4, step 21/93, total step 207/372, training_loss = 0.1980\n",
      "epoch 3/4, step 22/93, total step 208/372, training_loss = 0.2124\n",
      "epoch 3/4, step 23/93, total step 209/372, training_loss = 0.2056\n",
      "epoch 3/4, step 24/93, total step 210/372, training_loss = 0.1930\n",
      "epoch 3/4, step 25/93, total step 211/372, training_loss = 0.1839\n",
      "epoch 3/4, step 26/93, total step 212/372, training_loss = 0.2228\n",
      "epoch 3/4, step 27/93, total step 213/372, training_loss = 0.2127\n",
      "epoch 3/4, step 28/93, total step 214/372, training_loss = 0.2064\n",
      "epoch 3/4, step 29/93, total step 215/372, training_loss = 0.2024\n",
      "epoch 3/4, step 30/93, total step 216/372, training_loss = 0.1975\n",
      "epoch 3/4, step 31/93, total step 217/372, training_loss = 0.2088\n",
      "epoch 3/4, step 32/93, total step 218/372, training_loss = 0.2010\n",
      "epoch 3/4, step 33/93, total step 219/372, training_loss = 0.1957\n",
      "epoch 3/4, step 34/93, total step 220/372, training_loss = 0.1862\n",
      "epoch 3/4, step 35/93, total step 221/372, training_loss = 0.2412\n",
      "epoch 3/4, step 36/93, total step 222/372, training_loss = 0.2083\n",
      "epoch 3/4, step 37/93, total step 223/372, training_loss = 0.2030\n",
      "epoch 3/4, step 38/93, total step 224/372, training_loss = 0.1622\n",
      "epoch 3/4, step 39/93, total step 225/372, training_loss = 0.1814\n",
      "epoch 3/4, step 40/93, total step 226/372, training_loss = 0.1850\n",
      "epoch 3/4, step 41/93, total step 227/372, training_loss = 0.2040\n",
      "epoch 3/4, step 42/93, total step 228/372, training_loss = 0.1672\n",
      "epoch 3/4, step 43/93, total step 229/372, training_loss = 0.1688\n",
      "epoch 3/4, step 44/93, total step 230/372, training_loss = 0.1698\n",
      "epoch 3/4, step 45/93, total step 231/372, training_loss = 0.1759\n",
      "epoch 3/4, step 46/93, total step 232/372, training_loss = 0.1781\n",
      "epoch 3/4, step 47/93, total step 233/372, training_loss = 0.1728\n",
      "epoch 3/4, step 48/93, total step 234/372, training_loss = 0.1899\n",
      "epoch 3/4, step 49/93, total step 235/372, training_loss = 0.1567\n",
      "epoch 3/4, step 50/93, total step 236/372, training_loss = 0.1535\n",
      "epoch 3/4, step 51/93, total step 237/372, training_loss = 0.1678\n",
      "epoch 3/4, step 52/93, total step 238/372, training_loss = 0.1566\n",
      "epoch 3/4, step 53/93, total step 239/372, training_loss = 0.1630\n",
      "epoch 3/4, step 54/93, total step 240/372, training_loss = 0.1491\n",
      "epoch 3/4, step 55/93, total step 241/372, training_loss = 0.1557\n",
      "epoch 3/4, step 56/93, total step 242/372, training_loss = 0.1484\n",
      "epoch 3/4, step 57/93, total step 243/372, training_loss = 0.1522\n",
      "epoch 3/4, step 58/93, total step 244/372, training_loss = 0.1764\n",
      "epoch 3/4, step 59/93, total step 245/372, training_loss = 0.1411\n",
      "epoch 3/4, step 60/93, total step 246/372, training_loss = 0.1442\n",
      "epoch 3/4, step 61/93, total step 247/372, training_loss = 0.1476\n",
      "epoch 3/4, step 62/93, total step 248/372, training_loss = 0.1521\n",
      "epoch 3/4, step 63/93, total step 249/372, training_loss = 0.1733\n",
      "epoch 3/4, step 64/93, total step 250/372, training_loss = 0.1666\n",
      "epoch 3/4, step 65/93, total step 251/372, training_loss = 0.1606\n",
      "epoch 3/4, step 66/93, total step 252/372, training_loss = 0.1385\n",
      "epoch 3/4, step 67/93, total step 253/372, training_loss = 0.1515\n",
      "epoch 3/4, step 68/93, total step 254/372, training_loss = 0.1468\n",
      "epoch 3/4, step 69/93, total step 255/372, training_loss = 0.1490\n",
      "epoch 3/4, step 70/93, total step 256/372, training_loss = 0.1327\n",
      "epoch 3/4, step 71/93, total step 257/372, training_loss = 0.1246\n",
      "epoch 3/4, step 72/93, total step 258/372, training_loss = 0.1243\n",
      "epoch 3/4, step 73/93, total step 259/372, training_loss = 0.1383\n",
      "epoch 3/4, step 74/93, total step 260/372, training_loss = 0.1528\n",
      "epoch 3/4, step 75/93, total step 261/372, training_loss = 0.1264\n",
      "epoch 3/4, step 76/93, total step 262/372, training_loss = 0.1333\n",
      "epoch 3/4, step 77/93, total step 263/372, training_loss = 0.1359\n",
      "epoch 3/4, step 78/93, total step 264/372, training_loss = 0.1528\n",
      "epoch 3/4, step 79/93, total step 265/372, training_loss = 0.1430\n",
      "epoch 3/4, step 80/93, total step 266/372, training_loss = 0.1512\n",
      "epoch 3/4, step 81/93, total step 267/372, training_loss = 0.1480\n",
      "epoch 3/4, step 82/93, total step 268/372, training_loss = 0.1392\n",
      "epoch 3/4, step 83/93, total step 269/372, training_loss = 0.1551\n",
      "epoch 3/4, step 84/93, total step 270/372, training_loss = 0.1301\n",
      "epoch 3/4, step 85/93, total step 271/372, training_loss = 0.1423\n",
      "epoch 3/4, step 86/93, total step 272/372, training_loss = 0.1446\n",
      "epoch 3/4, step 87/93, total step 273/372, training_loss = 0.1180\n",
      "epoch 3/4, step 88/93, total step 274/372, training_loss = 0.1498\n",
      "epoch 3/4, step 89/93, total step 275/372, training_loss = 0.1430\n",
      "epoch 3/4, step 90/93, total step 276/372, training_loss = 0.1270\n",
      "epoch 3/4, step 91/93, total step 277/372, training_loss = 0.1354\n",
      "epoch 3/4, step 92/93, total step 278/372, training_loss = 0.1223\n",
      "epoch 3/4, step 93/93, total step 279/372, training_loss = 0.2710\n",
      "evaluation for epoch 3,  rocauc = 0.9995\n",
      "epoch 4/4, step 1/93, total step 280/372, training_loss = 0.1309\n",
      "epoch 4/4, step 2/93, total step 281/372, training_loss = 0.1382\n",
      "epoch 4/4, step 3/93, total step 282/372, training_loss = 0.1282\n",
      "epoch 4/4, step 4/93, total step 283/372, training_loss = 0.1256\n",
      "epoch 4/4, step 5/93, total step 284/372, training_loss = 0.1258\n",
      "epoch 4/4, step 6/93, total step 285/372, training_loss = 0.1339\n",
      "epoch 4/4, step 7/93, total step 286/372, training_loss = 0.1110\n",
      "epoch 4/4, step 8/93, total step 287/372, training_loss = 0.1418\n",
      "epoch 4/4, step 9/93, total step 288/372, training_loss = 0.1293\n",
      "epoch 4/4, step 10/93, total step 289/372, training_loss = 0.1264\n",
      "epoch 4/4, step 11/93, total step 290/372, training_loss = 0.1236\n",
      "epoch 4/4, step 12/93, total step 291/372, training_loss = 0.1190\n",
      "epoch 4/4, step 13/93, total step 292/372, training_loss = 0.1364\n",
      "epoch 4/4, step 14/93, total step 293/372, training_loss = 0.1427\n",
      "epoch 4/4, step 15/93, total step 294/372, training_loss = 0.0990\n",
      "epoch 4/4, step 16/93, total step 295/372, training_loss = 0.1163\n",
      "epoch 4/4, step 17/93, total step 296/372, training_loss = 0.1229\n",
      "epoch 4/4, step 18/93, total step 297/372, training_loss = 0.1205\n",
      "epoch 4/4, step 19/93, total step 298/372, training_loss = 0.0956\n",
      "epoch 4/4, step 20/93, total step 299/372, training_loss = 0.1029\n",
      "epoch 4/4, step 21/93, total step 300/372, training_loss = 0.1093\n",
      "epoch 4/4, step 22/93, total step 301/372, training_loss = 0.1290\n",
      "epoch 4/4, step 23/93, total step 302/372, training_loss = 0.1149\n",
      "epoch 4/4, step 24/93, total step 303/372, training_loss = 0.1302\n",
      "epoch 4/4, step 25/93, total step 304/372, training_loss = 0.1186\n",
      "epoch 4/4, step 26/93, total step 305/372, training_loss = 0.1116\n",
      "epoch 4/4, step 27/93, total step 306/372, training_loss = 0.1089\n",
      "epoch 4/4, step 28/93, total step 307/372, training_loss = 0.1114\n",
      "epoch 4/4, step 29/93, total step 308/372, training_loss = 0.0882\n",
      "epoch 4/4, step 30/93, total step 309/372, training_loss = 0.1091\n",
      "epoch 4/4, step 31/93, total step 310/372, training_loss = 0.1164\n",
      "epoch 4/4, step 32/93, total step 311/372, training_loss = 0.1129\n",
      "epoch 4/4, step 33/93, total step 312/372, training_loss = 0.1194\n",
      "epoch 4/4, step 34/93, total step 313/372, training_loss = 0.1321\n",
      "epoch 4/4, step 35/93, total step 314/372, training_loss = 0.1350\n",
      "epoch 4/4, step 36/93, total step 315/372, training_loss = 0.1192\n",
      "epoch 4/4, step 37/93, total step 316/372, training_loss = 0.1145\n",
      "epoch 4/4, step 38/93, total step 317/372, training_loss = 0.0972\n",
      "epoch 4/4, step 39/93, total step 318/372, training_loss = 0.1131\n",
      "epoch 4/4, step 40/93, total step 319/372, training_loss = 0.0924\n",
      "epoch 4/4, step 41/93, total step 320/372, training_loss = 0.1191\n",
      "epoch 4/4, step 42/93, total step 321/372, training_loss = 0.0952\n",
      "epoch 4/4, step 43/93, total step 322/372, training_loss = 0.1121\n",
      "epoch 4/4, step 44/93, total step 323/372, training_loss = 0.1016\n",
      "epoch 4/4, step 45/93, total step 324/372, training_loss = 0.1235\n",
      "epoch 4/4, step 46/93, total step 325/372, training_loss = 0.0913\n",
      "epoch 4/4, step 47/93, total step 326/372, training_loss = 0.1130\n",
      "epoch 4/4, step 48/93, total step 327/372, training_loss = 0.0977\n",
      "epoch 4/4, step 49/93, total step 328/372, training_loss = 0.1195\n",
      "epoch 4/4, step 50/93, total step 329/372, training_loss = 0.0940\n",
      "epoch 4/4, step 51/93, total step 330/372, training_loss = 0.1010\n",
      "epoch 4/4, step 52/93, total step 331/372, training_loss = 0.0943\n",
      "epoch 4/4, step 53/93, total step 332/372, training_loss = 0.0925\n",
      "epoch 4/4, step 54/93, total step 333/372, training_loss = 0.0855\n",
      "epoch 4/4, step 55/93, total step 334/372, training_loss = 0.0977\n",
      "epoch 4/4, step 56/93, total step 335/372, training_loss = 0.1031\n",
      "epoch 4/4, step 57/93, total step 336/372, training_loss = 0.1111\n",
      "epoch 4/4, step 58/93, total step 337/372, training_loss = 0.0903\n",
      "epoch 4/4, step 59/93, total step 338/372, training_loss = 0.1098\n",
      "epoch 4/4, step 60/93, total step 339/372, training_loss = 0.1297\n",
      "epoch 4/4, step 61/93, total step 340/372, training_loss = 0.1131\n",
      "epoch 4/4, step 62/93, total step 341/372, training_loss = 0.1110\n",
      "epoch 4/4, step 63/93, total step 342/372, training_loss = 0.1053\n",
      "epoch 4/4, step 64/93, total step 343/372, training_loss = 0.1112\n",
      "epoch 4/4, step 65/93, total step 344/372, training_loss = 0.0922\n",
      "epoch 4/4, step 66/93, total step 345/372, training_loss = 0.0935\n",
      "epoch 4/4, step 67/93, total step 346/372, training_loss = 0.0929\n",
      "epoch 4/4, step 68/93, total step 347/372, training_loss = 0.0827\n",
      "epoch 4/4, step 69/93, total step 348/372, training_loss = 0.0784\n",
      "epoch 4/4, step 70/93, total step 349/372, training_loss = 0.1062\n",
      "epoch 4/4, step 71/93, total step 350/372, training_loss = 0.0976\n",
      "epoch 4/4, step 72/93, total step 351/372, training_loss = 0.1023\n",
      "epoch 4/4, step 73/93, total step 352/372, training_loss = 0.0852\n",
      "epoch 4/4, step 74/93, total step 353/372, training_loss = 0.0973\n",
      "epoch 4/4, step 75/93, total step 354/372, training_loss = 0.0809\n",
      "epoch 4/4, step 76/93, total step 355/372, training_loss = 0.0916\n",
      "epoch 4/4, step 77/93, total step 356/372, training_loss = 0.0835\n",
      "epoch 4/4, step 78/93, total step 357/372, training_loss = 0.0727\n",
      "epoch 4/4, step 79/93, total step 358/372, training_loss = 0.0885\n",
      "epoch 4/4, step 80/93, total step 359/372, training_loss = 0.0816\n",
      "epoch 4/4, step 81/93, total step 360/372, training_loss = 0.0912\n",
      "epoch 4/4, step 82/93, total step 361/372, training_loss = 0.1094\n",
      "epoch 4/4, step 83/93, total step 362/372, training_loss = 0.0801\n",
      "epoch 4/4, step 84/93, total step 363/372, training_loss = 0.0972\n",
      "epoch 4/4, step 85/93, total step 364/372, training_loss = 0.0711\n",
      "epoch 4/4, step 86/93, total step 365/372, training_loss = 0.0870\n",
      "epoch 4/4, step 87/93, total step 366/372, training_loss = 0.0741\n",
      "epoch 4/4, step 88/93, total step 367/372, training_loss = 0.0828\n",
      "epoch 4/4, step 89/93, total step 368/372, training_loss = 0.0913\n",
      "epoch 4/4, step 90/93, total step 369/372, training_loss = 0.0857\n",
      "epoch 4/4, step 91/93, total step 370/372, training_loss = 0.0844\n",
      "epoch 4/4, step 92/93, total step 371/372, training_loss = 0.1276\n",
      "epoch 4/4, step 93/93, total step 372/372, training_loss = 0.1208\n",
      "evaluation for epoch 4,  rocauc = 0.9999\n",
      "CPU times: user 2min 2s, sys: 35.3 s, total: 2min 37s\n",
      "Wall time: 6min 53s\n"
     ]
    }
   ],
   "source": [
    "%%time\n",
    "trainer.run()"
   ]
  },
  {
   "cell_type": "markdown",
   "metadata": {},
   "source": [
    "### Plot the loss and metric\n",
    "Once we're done training we want to visualize our Loss and Accuracy."
   ]
  },
  {
   "cell_type": "code",
   "execution_count": 21,
   "metadata": {
    "colab": {
     "base_uri": "https://localhost:8080/",
     "height": 404
    },
    "id": "zY9GjuN7clDi",
    "outputId": "563dbd46-aa61-4ec9-e78b-286b9628b8ed"
   },
   "outputs": [
    {
     "data": {
      "image/png": "[encoded data removed]",
      "text/plain": [
       "<Figure size 864x432 with 2 Axes>"
      ]
     },
     "metadata": {
      "needs_background": "light"
     },
     "output_type": "display_data"
    }
   ],
   "source": [
    "plt.figure(\"train\", (12, 6))\n",
    "plt.subplot(1, 2, 1)\n",
    "plt.title(\"Epoch Average Loss\")\n",
    "x = [i + 1 for i in range(len(epoch_loss_values))]\n",
    "y = epoch_loss_values\n",
    "plt.xlabel(\"epoch\")\n",
    "plt.plot(x, y)\n",
    "plt.subplot(1, 2, 2)\n",
    "plt.title(\"Val AUC\")\n",
    "x = [(i + 1) for i in range(len(metric_values))]\n",
    "y = metric_values\n",
    "plt.xlabel(\"epoch\")\n",
    "plt.plot(x, y)\n",
    "plt.show()"
   ]
  },
  {
   "cell_type": "markdown",
   "metadata": {},
   "source": [
    "## Evaluate your model and understand the results\n",
    "### Evaluate the model on the test dataset\n",
    "\n",
    "After training and validation, we now have the best model as determined by the validation dataset. But now we need to evaluate the model on the test dataset to check whether the final model is robust and not over-fitting. We'll use these predictions to generate a classification report."
   ]
  },
  {
   "cell_type": "code",
   "execution_count": 22,
   "metadata": {
    "colab": {
     "base_uri": "https://localhost:8080/"
    },
    "id": "0sVoATkhclG5",
    "outputId": "d22515fb-5b31-4893-a49f-34b5a5feaa88"
   },
   "outputs": [],
   "source": [
    "net.eval()\n",
    "y_true = list()\n",
    "y_pred = list()\n",
    "\n",
    "with torch.no_grad():\n",
    "    for test_data in test_loader:\n",
    "        test_images, test_labels = (\n",
    "            test_data[0].to(device),\n",
    "            test_data[1].to(device),\n",
    "        )\n",
    "        pred = net(test_images).argmax(dim=1)\n",
    "        \n",
    "        for i in range(len(pred)):\n",
    "            y_true.append(test_labels[i].item())\n",
    "            y_pred.append(pred[i].item())"
   ]
  },
  {
   "cell_type": "markdown",
   "metadata": {},
   "source": [
    "### Some light analytics - classification report\n",
    "\n",
    "We'll utilize scikit-learn's classification report to get the precision, recall, and f1-score for each category."
   ]
  },
  {
   "cell_type": "code",
   "execution_count": 23,
   "metadata": {
    "colab": {
     "base_uri": "https://localhost:8080/"
    },
    "id": "sIcAG1KPdK7T",
    "outputId": "9341ade1-cc56-4069-be54-66e53297e52c"
   },
   "outputs": [
    {
     "name": "stdout",
     "output_type": "stream",
     "text": [
      "              precision    recall  f1-score   support\n",
      "\n",
      "   AbdomenCT     0.9801    0.9840    0.9820      1000\n",
      "   BreastMRI     0.9944    0.9933    0.9939       895\n",
      "         CXR     0.9980    0.9840    0.9909      1000\n",
      "     ChestCT     0.9960    1.0000    0.9980      1000\n",
      "        Hand     0.9841    0.9890    0.9865      1000\n",
      "      HeadCT     0.9830    0.9850    0.9840      1000\n",
      "\n",
      "    accuracy                         0.9891      5895\n",
      "   macro avg     0.9893    0.9892    0.9892      5895\n",
      "weighted avg     0.9892    0.9891    0.9891      5895\n",
      "\n"
     ]
    }
   ],
   "source": [
    "from sklearn.metrics import classification_report\n",
    "print(classification_report(y_true, y_pred, target_names=class_names, digits=4))"
   ]
  },
  {
   "cell_type": "markdown",
   "metadata": {},
   "source": [
    "### Some light analytics - confusion matrix\n",
    "\n",
    "Let's also create a confusion matrix to get a better understanding of the failure cases"
   ]
  },
  {
   "cell_type": "code",
   "execution_count": 24,
   "metadata": {
    "colab": {
     "base_uri": "https://localhost:8080/",
     "height": 322
    },
    "id": "e89fSZVSclKf",
    "outputId": "d85e4a68-9ed3-48c8-cfce-4a2e4bf5c2f5"
   },
   "outputs": [
    {
     "name": "stderr",
     "output_type": "stream",
     "text": [
      "FixedFormatter should only be used together with FixedLocator\n",
      "FixedFormatter should only be used together with FixedLocator\n"
     ]
    },
    {
     "data": {
      "image/png": "[encoded data removed]",
      "text/plain": [
       "<Figure size 432x288 with 2 Axes>"
      ]
     },
     "metadata": {
      "needs_background": "light"
     },
     "output_type": "display_data"
    }
   ],
   "source": [
    "from sklearn.metrics import confusion_matrix\n",
    "cmat = confusion_matrix(y_true, y_pred)\n",
    "fig = plt.figure()\n",
    "ax = fig.add_subplot(111)\n",
    "cax = ax.matshow(confusion_matrix(y_true, y_pred), cmap=\"terrain\", interpolation='nearest')\n",
    "fig.colorbar(cax)\n",
    "\n",
    "ax.set_xticklabels(['']+class_names, rotation=270)\n",
    "ax.set_yticklabels(['']+class_names)\n",
    "\n",
    "plt.show()"
   ]
  },
  {
   "cell_type": "markdown",
   "metadata": {},
   "source": [
    "## Caution !!!\n",
    "### please shutdown all kernels with [Kernel] menu >  [Shutdown All Kernel]  before launch next notebook\n",
    "\n",
    "## Navigation\n",
    "- [01_getting started](./01_getting.ipynb)\n",
    "\n",
    "- [02_pipeline_01](./02_pipeline_01.ipynb)\n",
    "- [02_pipeline_02](./02_pipeline_02.ipynb)\n",
    "- [02_pipeline_03](./02_pipeline_03.ipynb)\n",
    "- [02_pipeline_04](./02_pipeline_04.ipynb)\n",
    "\n",
    "- [03_brain_gan Next ](./03_brain_gan_01.ipynb)\n",
    "\n",
    "- [04_spleen_segment](./04_spleen_segment.ipynb) \n",
    "\n",
    "- [05_challenge_cardiac baseline](./05_challenge_cardiac_baseline.ipynb) \n",
    "\n",
    "- [05_challenge_cardiac workspace](./05_challenge_cardiac_workspace.ipynb) \n",
    "\n",
    "<img src=\"https://github.com/Project-MONAI/MONAIBootcamp2021/raw/2f28b64f814a03703667c8ea18cc84f53d6795e4/day1/monai.png\" width=400>"
   ]
  },
  {
   "cell_type": "code",
   "execution_count": null,
   "metadata": {},
   "outputs": [],
   "source": []
  }
 ],
 "metadata": {
  "accelerator": "GPU",
  "colab": {
   "machine_shape": "hm",
   "name": "Monai_bootcamp_01_03.ipynb",
   "provenance": []
  },
  "kernelspec": {
   "display_name": "Python 3 (ipykernel)",
   "language": "python",
   "name": "python3"
  },
  "language_info": {
   "codemirror_mode": {
    "name": "ipython",
    "version": 3
   },
   "file_extension": ".py",
   "mimetype": "text/x-python",
   "name": "python",
   "nbconvert_exporter": "python",
   "pygments_lexer": "ipython3",
   "version": "3.8.12"
  }
 },
 "nbformat": 4,
 "nbformat_minor": 4
}
