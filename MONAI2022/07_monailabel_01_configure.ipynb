{
 "cells": [
  {
   "cell_type": "markdown",
   "id": "aefd7233",
   "metadata": {},
   "source": [
    "# MONAI label\n",
    "\n",
    "MONAI Label is an intelligent open source image labeling and learning tool that enables users to create annotated datasets and build AI annotation models for clinical evaluation. MONAI Label enables application developers to build labeling apps in a serverless way, where custom labeling apps are exposed as a service through the MONAI Label Server."
   ]
  },
  {
   "cell_type": "markdown",
   "id": "d9daa326",
   "metadata": {},
   "source": [
    "## configuration"
   ]
  },
  {
   "cell_type": "code",
   "execution_count": 1,
   "id": "03e4e88f",
   "metadata": {},
   "outputs": [
    {
     "name": "stdout",
     "output_type": "stream",
     "text": [
      "/home/hryu-nvidia-com/workspace-monailabel-labs\n"
     ]
    }
   ],
   "source": [
    "#check work directory\n",
    "!pwd"
   ]
  },
  {
   "cell_type": "markdown",
   "id": "c5823aad",
   "metadata": {},
   "source": [
    "### check available MONAI Label Apps."
   ]
  },
  {
   "cell_type": "code",
   "execution_count": 2,
   "id": "b3790c20",
   "metadata": {},
   "outputs": [
    {
     "name": "stdout",
     "output_type": "stream",
     "text": [
      "Using PYTHONPATH=/opt:\n",
      "Available Apps are:\n",
      "----------------------------------------------------\n",
      "  endoscopy                     : /opt/conda/monailabel/sample-apps/endoscopy\n",
      "  monaibundle                   : /opt/conda/monailabel/sample-apps/monaibundle\n",
      "  pathology                     : /opt/conda/monailabel/sample-apps/pathology\n",
      "  radiology                     : /opt/conda/monailabel/sample-apps/radiology\n",
      "\n"
     ]
    }
   ],
   "source": [
    "# check available apps\n",
    "!monailabel apps"
   ]
  },
  {
   "cell_type": "markdown",
   "id": "29314810",
   "metadata": {},
   "source": [
    "### download radiology and pathology example script"
   ]
  },
  {
   "cell_type": "code",
   "execution_count": 5,
   "id": "3fcc199b",
   "metadata": {},
   "outputs": [
    {
     "name": "stdout",
     "output_type": "stream",
     "text": [
      "Using PYTHONPATH=/opt:\n",
      "Directory already exists: /home/hryu-nvidia-com/workspace-monailabel-labs/apps/radiology\n",
      "Using PYTHONPATH=/opt:\n",
      "pathology is copied at: /home/hryu-nvidia-com/workspace-monailabel-labs/apps/pathology\n"
     ]
    }
   ],
   "source": [
    "!monailabel apps --download --name radiology --output apps\n",
    "!monailabel apps --download --name pathology --output apps"
   ]
  },
  {
   "cell_type": "markdown",
   "id": "c295e5ec",
   "metadata": {},
   "source": [
    "### Download available Dataset"
   ]
  },
  {
   "cell_type": "code",
   "execution_count": 10,
   "id": "65ee5ebc",
   "metadata": {},
   "outputs": [
    {
     "name": "stdout",
     "output_type": "stream",
     "text": [
      "Using PYTHONPATH=/opt:\n",
      "Available Datasets are:\n",
      "----------------------------------------------------\n",
      "  Task01_BrainTumour            : https://msd-for-monai.s3-us-west-2.amazonaws.com/Task01_BrainTumour.tar\n",
      "  Task02_Heart                  : https://msd-for-monai.s3-us-west-2.amazonaws.com/Task02_Heart.tar\n",
      "  Task03_Liver                  : https://msd-for-monai.s3-us-west-2.amazonaws.com/Task03_Liver.tar\n",
      "  Task04_Hippocampus            : https://msd-for-monai.s3-us-west-2.amazonaws.com/Task04_Hippocampus.tar\n",
      "  Task05_Prostate               : https://msd-for-monai.s3-us-west-2.amazonaws.com/Task05_Prostate.tar\n",
      "  Task06_Lung                   : https://msd-for-monai.s3-us-west-2.amazonaws.com/Task06_Lung.tar\n",
      "  Task07_Pancreas               : https://msd-for-monai.s3-us-west-2.amazonaws.com/Task07_Pancreas.tar\n",
      "  Task08_HepaticVessel          : https://msd-for-monai.s3-us-west-2.amazonaws.com/Task08_HepaticVessel.tar\n",
      "  Task09_Spleen                 : https://msd-for-monai.s3-us-west-2.amazonaws.com/Task09_Spleen.tar\n",
      "  Task10_Colon                  : https://msd-for-monai.s3-us-west-2.amazonaws.com/Task10_Colon.tar\n",
      "\n"
     ]
    }
   ],
   "source": [
    "# check available  sample Datasets\n",
    "!monailabel datasets # List sample datasets\n"
   ]
  },
  {
   "cell_type": "markdown",
   "id": "e3d2c0c8",
   "metadata": {},
   "source": [
    "#### download sample dataset for segmentation "
   ]
  },
  {
   "cell_type": "code",
   "execution_count": 3,
   "id": "4b1bdb55",
   "metadata": {},
   "outputs": [
    {
     "name": "stdout",
     "output_type": "stream",
     "text": [
      "Using PYTHONPATH=/opt:\n",
      "Directory already exists: datasets/Task09_Spleen\n",
      "Using PYTHONPATH=/opt:\n",
      "Directory already exists: datasets/Task06_Lung\n"
     ]
    }
   ],
   "source": [
    "!monailabel datasets --download --name Task09_Spleen --output datasets\n",
    "!monailabel datasets --download --name Task06_Lung  --output datasets"
   ]
  },
  {
   "cell_type": "code",
   "execution_count": 14,
   "id": "2018bb42",
   "metadata": {},
   "outputs": [
    {
     "name": "stdout",
     "output_type": "stream",
     "text": [
      "Using PYTHONPATH=/opt:\n",
      "Directory already exists: datasets/Task09_Spleen\n",
      "Using PYTHONPATH=/opt:\n",
      "Directory already exists: datasets/Task06_Lung\n"
     ]
    }
   ],
   "source": [
    "!monailabel datasets --download --name Task09_Spleen --output datasets\n",
    "!monailabel datasets --download --name Task06_Lung  --output datasets"
   ]
  },
  {
   "cell_type": "markdown",
   "id": "d7039dcc",
   "metadata": {},
   "source": [
    "# launch monai app server"
   ]
  },
  {
   "cell_type": "markdown",
   "id": "dcfb925f",
   "metadata": {},
   "source": [
    "## check allocated port for 9999 port"
   ]
  },
  {
   "cell_type": "code",
   "execution_count": 4,
   "id": "5256b7f1",
   "metadata": {},
   "outputs": [
    {
     "name": "stdout",
     "output_type": "stream",
     "text": [
      "ssh -L localhost:8888:dgx05:8030 -L localhost:9999:dgx05:9030 ssh.axisapps.io -l b6145152701e44e4923cd8b5fcb116b7\n"
     ]
    }
   ],
   "source": [
    "!cat ~/port_forwarding_command"
   ]
  },
  {
   "cell_type": "markdown",
   "id": "56dc8765",
   "metadata": {},
   "source": [
    "\n",
    "#### for example, \n",
    "if the port_forwarding_command is below : \n",
    "```\n",
    "ssh -L localhost:8888:dgx05:8730 -L localhost:9999:dgx05:9730 ssh.axisapps.io -l 9bffbbd44d83471292ec7189545006fd\n",
    "```\n",
    "\n",
    "check `-L localhost:9999:dgx05:9730` \n",
    "\n",
    "\n",
    "- PORT number :  `9730`\n",
    "- app  : `~/workspace-monailabel-labs/apps/radiology`\n",
    "- studies :  `~/workspace-monailabel-labs/dataset/Task09_Spleen/imagesTr`\n",
    "- configure model : segmentation_spleen \n",
    "\n",
    "```\n",
    "monailabel start_server --app  ~/workspace-monailabel-labs/apps/radiology  --studies  ~/workspace-monailabel-labs/datasets/Task09_Spleen/imagesTr --conf models segmentation_spleen --host 0.0.0.0 --port 9730 --verbose DEBUG\n",
    "```"
   ]
  },
  {
   "cell_type": "markdown",
   "id": "dc0ffdbb",
   "metadata": {},
   "source": [
    "### launch monai label server ( lung segment)\n",
    "\n",
    "- step1. copy command ( Control + C)  \n",
    "- step2. open New terminal \n",
    "- step3. (Control + V) in terminal \n",
    "- step4. reload and reaccess server in 3D Slicer \n",
    "\n",
    "```monailabel start_server --app  ~/workspace-monailabel-labs/apps/radiology  --studies  ~/workspace-monailabel-labs/datasets/Task09_Spleen/imagesTr --conf models segmentation_spleen --host 0.0.0.0 --port 9730 --verbose DEBUG```"
   ]
  },
  {
   "cell_type": "code",
   "execution_count": 5,
   "id": "d5862315",
   "metadata": {},
   "outputs": [],
   "source": [
    "# monailabel start_server --app  ~/workspace-monailabel-labs/apps/radiology  --studies  ~/workspace-monailabel-labs/datasets/Task09_Spleen/imagesTr --conf models segmentation_spleen --host 0.0.0.0 --port 9730 --verbose DEBUG"
   ]
  },
  {
   "cell_type": "markdown",
   "id": "2ada10fa",
   "metadata": {},
   "source": [
    "### launch monai label server ( deepedit)\n",
    "\n",
    "- step1. copy command ( Control + C)\n",
    "- step2. open New terminal\n",
    "- step3. (Control + V) in terminal\n",
    "- step4. reload and reaccess server in 3D Slicer\n",
    "\n",
    "```monailabel start_server --app  ~/workspace-monailabel-labs/apps/radiology  --studies  ~/workspace-monailabel-labs/datasets/Task09_Spleen/imagesTr --conf models deepedit --host 0.0.0.0 --port 9730 --verbose DEBUG```"
   ]
  },
  {
   "cell_type": "code",
   "execution_count": null,
   "id": "0b5c792f",
   "metadata": {},
   "outputs": [],
   "source": [
    "# monailabel start_server --app  ~/workspace-monailabel-labs/apps/radiology  --studies  ~/workspace-monailabel-labs/datasets/Task09_Spleen/imagesTr --conf models deepedit --host 0.0.0.0 --port 9730 --verbose DEBUG"
   ]
  },
  {
   "cell_type": "markdown",
   "id": "22dc7b5a",
   "metadata": {},
   "source": [
    "### launch monai label server ( deepgrow_3d)\n",
    "\n",
    "- step1. copy command ( Control + C)\n",
    "- step2. open New terminal\n",
    "- step3. (Control + V) in terminal\n",
    "- step4. reload and reaccess server in 3D Slicer\n",
    "\n",
    "```monailabel start_server --app  ~/workspace-monailabel-labs/apps/radiology  --studies  ~/workspace-monailabel-labs/datasets/Task09_Spleen/imagesTr --conf models deepgrow_3d --host 0.0.0.0 --port 9730 --verbose DEBUG```"
   ]
  },
  {
   "cell_type": "code",
   "execution_count": null,
   "id": "5938d30b",
   "metadata": {},
   "outputs": [],
   "source": [
    "# monailabel start_server --app  ~/workspace-monailabel-labs/apps/radiology  --studies  ~/workspace-monailabel-labs/datasets/Task09_Spleen/imagesTr --conf models deepgrow_3d --host 0.0.0.0 --port 9730 --verbose DEBUG"
   ]
  },
  {
   "cell_type": "markdown",
   "id": "21bf2b2d",
   "metadata": {},
   "source": [
    "### launch monai label server ( custom model segmentation_lung)\n",
    "\n",
    "dataset lung \n",
    "- step0. copy `apps/libs/configs/segmentation.py` to new `segmentation_lung.py` \n",
    "- step1. open and edit label `right lung:1` , `left lung:2` , `airways:3` \n",
    "- step2. edit configure  `\"use_pretrained_model\", \"false\"` and save\n",
    "- step3. copy command ( Control + C)\n",
    "- step4. open New terminal\n",
    "- step5. (Control + V) in terminal\n",
    "- step6. reload and reaccess server in 3D Slicer\n",
    "\n",
    "```monailabel start_server --app  ~/workspace-monailabel-labs/apps/radiology  --studies  ~/workspace-monailabel-labs/datasets/Task06_Lung/imagesTr --conf models segmentation_lung --host 0.0.0.0 --port 9730 --verbose DEBUG```"
   ]
  },
  {
   "cell_type": "code",
   "execution_count": null,
   "id": "88b7109b",
   "metadata": {},
   "outputs": [],
   "source": [
    "monailabel start_server --app  ~/workspace-monailabel-labs/apps/radiology  --studies  ~/workspace-monailabel-labs/datasets/Task09_Spleen/imagesTr --conf models deepgrow_3d --host 0.0.0.0 --port 9730 --verbose DEBUG"
   ]
  },
  {
   "cell_type": "code",
   "execution_count": null,
   "id": "8dd45b50",
   "metadata": {},
   "outputs": [],
   "source": [
    "monailabel start_server --app  ~/workspace-monailabel-labs/apps/radiology  --studies  ~/workspace-monailabel-labs/datasets/Task09_Spleen/imagesTr --conf models deepedit --host 0.0.0.0 --port 9730 --verbose DEBUG"
   ]
  },
  {
   "cell_type": "code",
   "execution_count": null,
   "id": "9332eaa8",
   "metadata": {},
   "outputs": [],
   "source": [
    "monailabel start_server --app  ~/workspace-monailabel-labs/apps/radiology  --studies  ~/workspace-monailabel-labs/datasets/Task09_Spleen/imagesTr --conf models segmentaion --host 0.0.0.0 --port 9730 --verbose DEBUG"
   ]
  }
 ],
 "metadata": {
  "kernelspec": {
   "display_name": "Python 3 (ipykernel)",
   "language": "python",
   "name": "python3"
  },
  "language_info": {
   "codemirror_mode": {
    "name": "ipython",
    "version": 3
   },
   "file_extension": ".py",
   "mimetype": "text/x-python",
   "name": "python",
   "nbconvert_exporter": "python",
   "pygments_lexer": "ipython3",
   "version": "3.8.12"
  }
 },
 "nbformat": 4,
 "nbformat_minor": 5
}
